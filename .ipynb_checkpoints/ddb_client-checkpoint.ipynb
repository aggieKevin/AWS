{
 "cells": [
  {
   "cell_type": "code",
   "execution_count": 1,
   "metadata": {},
   "outputs": [],
   "source": [
    "import boto3\n",
    "client=boto3.client('dynamodb') # create the DDB client"
   ]
  },
  {
   "cell_type": "markdown",
   "metadata": {},
   "source": [
    "# Create Table"
   ]
  },
  {
   "cell_type": "code",
   "execution_count": 2,
   "metadata": {},
   "outputs": [],
   "source": [
    "response = client.create_table(\n",
    "    TableName='ratings',\n",
    "    KeySchema=[\n",
    "        {\n",
    "            'AttributeName': 'userId',\n",
    "            'KeyType': 'HASH'  #Partition key\n",
    "        },\n",
    "        {\n",
    "            'AttributeName': 'movieId',\n",
    "            'KeyType': 'RANGE'  #Sort key\n",
    "        }\n",
    "        \n",
    "    ],\n",
    "    AttributeDefinitions=[\n",
    "        {\n",
    "            'AttributeName': 'userId',\n",
    "            'AttributeType': 'N'\n",
    "        },\n",
    "        {\n",
    "            'AttributeName': 'movieId',\n",
    "            'AttributeType': 'N'\n",
    "        }\n",
    "    ],\n",
    "    ProvisionedThroughput={\n",
    "        'ReadCapacityUnits': 5,\n",
    "        'WriteCapacityUnits': 5\n",
    "    }\n",
    ")"
   ]
  },
  {
   "cell_type": "code",
   "execution_count": 3,
   "metadata": {},
   "outputs": [
    {
     "data": {
      "text/plain": [
       "{'TableDescription': {'AttributeDefinitions': [{'AttributeName': 'movieId',\n",
       "    'AttributeType': 'N'},\n",
       "   {'AttributeName': 'userId', 'AttributeType': 'N'}],\n",
       "  'TableName': 'ratings',\n",
       "  'KeySchema': [{'AttributeName': 'userId', 'KeyType': 'HASH'},\n",
       "   {'AttributeName': 'movieId', 'KeyType': 'RANGE'}],\n",
       "  'TableStatus': 'CREATING',\n",
       "  'CreationDateTime': datetime.datetime(2020, 8, 23, 20, 16, 16, 669000, tzinfo=tzlocal()),\n",
       "  'ProvisionedThroughput': {'NumberOfDecreasesToday': 0,\n",
       "   'ReadCapacityUnits': 5,\n",
       "   'WriteCapacityUnits': 5},\n",
       "  'TableSizeBytes': 0,\n",
       "  'ItemCount': 0,\n",
       "  'TableArn': 'arn:aws:dynamodb:us-east-1:226595923650:table/ratings',\n",
       "  'TableId': 'e54240e4-5073-4c4e-a627-08e7f14e6e2f'},\n",
       " 'ResponseMetadata': {'RequestId': 'VIVOM5OJGCETK7VDCM47KMGKMVVV4KQNSO5AEMVJF66Q9ASUAAJG',\n",
       "  'HTTPStatusCode': 200,\n",
       "  'HTTPHeaders': {'server': 'Server',\n",
       "   'date': 'Sun, 23 Aug 2020 20:16:16 GMT',\n",
       "   'content-type': 'application/x-amz-json-1.0',\n",
       "   'content-length': '576',\n",
       "   'connection': 'keep-alive',\n",
       "   'x-amzn-requestid': 'VIVOM5OJGCETK7VDCM47KMGKMVVV4KQNSO5AEMVJF66Q9ASUAAJG',\n",
       "   'x-amz-crc32': '1277562218'},\n",
       "  'RetryAttempts': 0}}"
      ]
     },
     "execution_count": 3,
     "metadata": {},
     "output_type": "execute_result"
    }
   ],
   "source": [
    "response"
   ]
  },
  {
   "cell_type": "markdown",
   "metadata": {},
   "source": [
    "# Insert Item"
   ]
  },
  {
   "cell_type": "code",
   "execution_count": 14,
   "metadata": {},
   "outputs": [],
   "source": [
    "import pandas as pd\n",
    "from decimal import Decimal\n",
    "df=pd.read_csv('./ratings_1000.csv')\n",
    "for i in df.index:\n",
    "    userid,movieid,rating,time=df.iloc[i]\n",
    "    try:\n",
    "       # print('userid is {}, and movieId is {}'.format(userid,movieid))\n",
    "        #print(userid)\n",
    "        \n",
    "        client.put_item(\n",
    "            TableName='ratings',\n",
    "            Item={\n",
    "                'userId': {'N': str(userid)},\n",
    "                'movieId':{'N': str(movieid)},\n",
    "                \n",
    "                'rating': {'N':str(rating)},\n",
    "                'timestamp':{'S':str(time)}\n",
    "        })\n",
    "        #print('write one record {}'.format(i))\n",
    "    except Exception as e:\n",
    "        print(e)"
   ]
  },
  {
   "cell_type": "markdown",
   "metadata": {},
   "source": [
    "# Get Item"
   ]
  },
  {
   "cell_type": "code",
   "execution_count": null,
   "metadata": {},
   "outputs": [],
   "source": [
    "re"
   ]
  }
 ],
 "metadata": {
  "kernelspec": {
   "display_name": "conda_python3",
   "language": "python",
   "name": "conda_python3"
  },
  "language_info": {
   "codemirror_mode": {
    "name": "ipython",
    "version": 3
   },
   "file_extension": ".py",
   "mimetype": "text/x-python",
   "name": "python",
   "nbconvert_exporter": "python",
   "pygments_lexer": "ipython3",
   "version": "3.6.10"
  }
 },
 "nbformat": 4,
 "nbformat_minor": 4
}
