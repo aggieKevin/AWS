{
 "cells": [
  {
   "cell_type": "markdown",
   "metadata": {},
   "source": [
    "# DynamoDB Resource Table Examples"
   ]
  },
  {
   "cell_type": "markdown",
   "metadata": {},
   "source": [
    "A resource representing an Amazon DynamoDB Table\n",
    "https://boto3.amazonaws.com/v1/documentation/api/latest/reference/services/dynamodb.html#table"
   ]
  },
  {
   "cell_type": "code",
   "execution_count": 1,
   "metadata": {},
   "outputs": [],
   "source": [
    "import boto3\n",
    "dynamodb = boto3.resource('dynamodb')"
   ]
  },
  {
   "cell_type": "markdown",
   "metadata": {},
   "source": [
    "## Create Table"
   ]
  },
  {
   "cell_type": "code",
   "execution_count": 2,
   "metadata": {},
   "outputs": [],
   "source": [
    "table = dynamodb.create_table(\n",
    "    TableName='Movies',\n",
    "    KeySchema=[\n",
    "        {\n",
    "            'AttributeName': 'year',\n",
    "            'KeyType': 'HASH'  # Partition key\n",
    "        },\n",
    "        {\n",
    "            'AttributeName': 'title',\n",
    "            'KeyType': 'RANGE'  # Sort key\n",
    "        }\n",
    "    ],\n",
    "    AttributeDefinitions=[\n",
    "        {\n",
    "            'AttributeName': 'year',\n",
    "            'AttributeType': 'N'\n",
    "        },\n",
    "        {\n",
    "            'AttributeName': 'title',\n",
    "            'AttributeType': 'S'\n",
    "        },\n",
    "\n",
    "    ],\n",
    "    ProvisionedThroughput={\n",
    "        'ReadCapacityUnits': 10,\n",
    "        'WriteCapacityUnits': 10\n",
    "    }\n",
    ")"
   ]
  },
  {
   "cell_type": "code",
   "execution_count": 3,
   "metadata": {},
   "outputs": [
    {
     "data": {
      "text/plain": [
       "dynamodb.Table(name='Movies')"
      ]
     },
     "execution_count": 3,
     "metadata": {},
     "output_type": "execute_result"
    }
   ],
   "source": [
    "table"
   ]
  },
  {
   "cell_type": "markdown",
   "metadata": {},
   "source": [
    "## Put Item"
   ]
  },
  {
   "cell_type": "code",
   "execution_count": 4,
   "metadata": {},
   "outputs": [],
   "source": [
    "import json\n",
    "from decimal import Decimal\n",
    "with open('moviedata.json') as f:\n",
    "    movie_list=json.load(f,parse_float=Decimal)"
   ]
  },
  {
   "cell_type": "code",
   "execution_count": 7,
   "metadata": {},
   "outputs": [
    {
     "name": "stdout",
     "output_type": "stream",
     "text": [
      "{'year': 2013, 'title': 'Rush', 'info': {'directors': ['Ron Howard'], 'release_date': '2013-09-02T00:00:00Z', 'rating': Decimal('8.3'), 'genres': ['Action', 'Biography', 'Drama', 'Sport'], 'image_url': 'http://ia.media-imdb.com/images/M/MV5BMTQyMDE0MTY0OV5BMl5BanBnXkFtZTcwMjI2OTI0OQ@@._V1_SX400_.jpg', 'plot': 'A re-creation of the merciless 1970s rivalry between Formula One rivals James Hunt and Niki Lauda.', 'rank': 2, 'running_time_secs': 7380, 'actors': ['Daniel Bruhl', 'Chris Hemsworth', 'Olivia Wilde']}}\n",
      "{'year': 2013, 'title': 'Prisoners', 'info': {'directors': ['Denis Villeneuve'], 'release_date': '2013-08-30T00:00:00Z', 'rating': Decimal('8.2'), 'genres': ['Crime', 'Drama', 'Thriller'], 'image_url': 'http://ia.media-imdb.com/images/M/MV5BMTg0NTIzMjQ1NV5BMl5BanBnXkFtZTcwNDc3MzM5OQ@@._V1_SX400_.jpg', 'plot': \"When Keller Dover's daughter and her friend go missing, he takes matters into his own hands as the police pursue multiple leads and the pressure mounts. But just how far will this desperate father go to protect his family?\", 'rank': 3, 'running_time_secs': 9180, 'actors': ['Hugh Jackman', 'Jake Gyllenhaal', 'Viola Davis']}}\n",
      "{'year': 2013, 'title': 'The Hunger Games: Catching Fire', 'info': {'directors': ['Francis Lawrence'], 'release_date': '2013-11-11T00:00:00Z', 'genres': ['Action', 'Adventure', 'Sci-Fi', 'Thriller'], 'image_url': 'http://ia.media-imdb.com/images/M/MV5BMTAyMjQ3OTAxMzNeQTJeQWpwZ15BbWU4MDU0NzA1MzAx._V1_SX400_.jpg', 'plot': 'Katniss Everdeen and Peeta Mellark become targets of the Capitol after their victory in the 74th Hunger Games sparks a rebellion in the Districts of Panem.', 'rank': 4, 'running_time_secs': 8760, 'actors': ['Jennifer Lawrence', 'Josh Hutcherson', 'Liam Hemsworth']}}\n",
      "{'year': 2013, 'title': 'Thor: The Dark World', 'info': {'directors': ['Alan Taylor'], 'release_date': '2013-10-30T00:00:00Z', 'genres': ['Action', 'Adventure', 'Fantasy'], 'image_url': 'http://ia.media-imdb.com/images/M/MV5BMTQyNzAwOTUxOF5BMl5BanBnXkFtZTcwMTE0OTc5OQ@@._V1_SX400_.jpg', 'plot': 'Faced with an enemy that even Odin and Asgard cannot withstand, Thor must embark on his most perilous and personal journey yet, one that will reunite him with Jane Foster and force him to sacrifice everything to save us all.', 'rank': 5, 'actors': ['Chris Hemsworth', 'Natalie Portman', 'Tom Hiddleston']}}\n",
      "{'year': 2013, 'title': 'This Is the End', 'info': {'directors': ['Evan Goldberg', 'Seth Rogen'], 'release_date': '2013-06-03T00:00:00Z', 'rating': Decimal('7.2'), 'genres': ['Comedy', 'Fantasy'], 'image_url': 'http://ia.media-imdb.com/images/M/MV5BMTQxODE3NjM1Ml5BMl5BanBnXkFtZTcwMzkzNjc4OA@@._V1_SX400_.jpg', 'plot': \"While attending a party at James Franco's house, Seth Rogen, Jay Baruchel and many other celebrities are faced with the apocalypse.\", 'rank': 6, 'running_time_secs': 6420, 'actors': ['James Franco', 'Jonah Hill', 'Seth Rogen']}}\n"
     ]
    }
   ],
   "source": [
    "table = dynamodb.Table('Movies')\n",
    "for movie in movie_list[0:5]: # insert 5 items\n",
    "    print(movie)\n",
    "    table.put_item(Item=movie)"
   ]
  },
  {
   "cell_type": "markdown",
   "metadata": {},
   "source": [
    "## Get Item"
   ]
  },
  {
   "cell_type": "code",
   "execution_count": 9,
   "metadata": {},
   "outputs": [
    {
     "data": {
      "text/plain": [
       "{'Item': {'year': Decimal('2013'),\n",
       "  'info': {'actors': ['Daniel Bruhl', 'Chris Hemsworth', 'Olivia Wilde'],\n",
       "   'release_date': '2013-09-02T00:00:00Z',\n",
       "   'plot': 'A re-creation of the merciless 1970s rivalry between Formula One rivals James Hunt and Niki Lauda.',\n",
       "   'genres': ['Action', 'Biography', 'Drama', 'Sport'],\n",
       "   'image_url': 'http://ia.media-imdb.com/images/M/MV5BMTQyMDE0MTY0OV5BMl5BanBnXkFtZTcwMjI2OTI0OQ@@._V1_SX400_.jpg',\n",
       "   'directors': ['Ron Howard'],\n",
       "   'rating': Decimal('8.3'),\n",
       "   'rank': Decimal('2'),\n",
       "   'running_time_secs': Decimal('7380')},\n",
       "  'title': 'Rush'},\n",
       " 'ConsumedCapacity': {'TableName': 'Movies', 'CapacityUnits': 1.0},\n",
       " 'ResponseMetadata': {'RequestId': 'VI19RHQK11IO3JDE41H8AL2FGBVV4KQNSO5AEMVJF66Q9ASUAAJG',\n",
       "  'HTTPStatusCode': 200,\n",
       "  'HTTPHeaders': {'server': 'Server',\n",
       "   'date': 'Sun, 23 Aug 2020 20:50:42 GMT',\n",
       "   'content-type': 'application/x-amz-json-1.0',\n",
       "   'content-length': '675',\n",
       "   'connection': 'keep-alive',\n",
       "   'x-amzn-requestid': 'VI19RHQK11IO3JDE41H8AL2FGBVV4KQNSO5AEMVJF66Q9ASUAAJG',\n",
       "   'x-amz-crc32': '3443427797'},\n",
       "  'RetryAttempts': 0}}"
      ]
     },
     "execution_count": 9,
     "metadata": {},
     "output_type": "execute_result"
    }
   ],
   "source": [
    "table = dynamodb.Table('Movies')\n",
    "table.get_item(\n",
    "    Key={'year':2013,'title':'Rush'},\n",
    "    ConsistentRead=True,\n",
    "    ReturnConsumedCapacity='TOTAL'\n",
    ")"
   ]
  },
  {
   "cell_type": "markdown",
   "metadata": {},
   "source": [
    "## Update Item"
   ]
  },
  {
   "cell_type": "code",
   "execution_count": 15,
   "metadata": {},
   "outputs": [
    {
     "data": {
      "text/plain": [
       "{'Attributes': {'info': {'actors': ['Larry', 'Kevin'],\n",
       "   'plot': 'Everything happens all at once',\n",
       "   'rating': Decimal('5.5')}},\n",
       " 'ResponseMetadata': {'RequestId': 'I0HVKJ7BC5SH9U4C563MHKTC1FVV4KQNSO5AEMVJF66Q9ASUAAJG',\n",
       "  'HTTPStatusCode': 200,\n",
       "  'HTTPHeaders': {'server': 'Server',\n",
       "   'date': 'Sun, 23 Aug 2020 21:04:34 GMT',\n",
       "   'content-type': 'application/x-amz-json-1.0',\n",
       "   'content-length': '143',\n",
       "   'connection': 'keep-alive',\n",
       "   'x-amzn-requestid': 'I0HVKJ7BC5SH9U4C563MHKTC1FVV4KQNSO5AEMVJF66Q9ASUAAJG',\n",
       "   'x-amz-crc32': '657691679'},\n",
       "  'RetryAttempts': 0}}"
      ]
     },
     "execution_count": 15,
     "metadata": {},
     "output_type": "execute_result"
    }
   ],
   "source": [
    "table = dynamodb.Table('Movies')\n",
    "from decimal import Decimal\n",
    "table.update_item(\n",
    "    Key={'year':2013,'title':'Rush'},\n",
    "    UpdateExpression='set info.rating=:r, info.plot=:p, info.actors=:a',\n",
    "    ConditionExpression=\"size(info.actors) > :num\",\n",
    "    ExpressionAttributeValues={\n",
    "        ':r':Decimal(5.5),\n",
    "        ':p':'Everything happens all at once',\n",
    "        ':a':['Larry','Kevin'],\n",
    "        ':num': 1\n",
    "    },\n",
    "    ReturnValues=\"UPDATED_NEW\"\n",
    ")"
   ]
  },
  {
   "cell_type": "markdown",
   "metadata": {},
   "source": [
    "## Delete Item"
   ]
  },
  {
   "cell_type": "code",
   "execution_count": 16,
   "metadata": {},
   "outputs": [],
   "source": [
    "table = dynamodb.Table('Movies')\n",
    "response = table.delete_item(\n",
    "    Key={\n",
    "        'year': 2013,\n",
    "        'title': 'Rush'\n",
    "    },\n",
    "    ConditionExpression=\"info.rating <= :val\",\n",
    "    ExpressionAttributeValues={\n",
    "        \":val\": Decimal(8)\n",
    "    }\n",
    ")"
   ]
  },
  {
   "cell_type": "code",
   "execution_count": 17,
   "metadata": {},
   "outputs": [
    {
     "data": {
      "text/plain": [
       "{'ResponseMetadata': {'RequestId': 'R1GKCC1TC7SN2CD3TS1LOST9A7VV4KQNSO5AEMVJF66Q9ASUAAJG',\n",
       "  'HTTPStatusCode': 200,\n",
       "  'HTTPHeaders': {'server': 'Server',\n",
       "   'date': 'Sun, 23 Aug 2020 21:07:36 GMT',\n",
       "   'content-type': 'application/x-amz-json-1.0',\n",
       "   'content-length': '2',\n",
       "   'connection': 'keep-alive',\n",
       "   'x-amzn-requestid': 'R1GKCC1TC7SN2CD3TS1LOST9A7VV4KQNSO5AEMVJF66Q9ASUAAJG',\n",
       "   'x-amz-crc32': '2745614147'},\n",
       "  'RetryAttempts': 0}}"
      ]
     },
     "execution_count": 17,
     "metadata": {},
     "output_type": "execute_result"
    }
   ],
   "source": [
    "response"
   ]
  },
  {
   "cell_type": "markdown",
   "metadata": {},
   "source": [
    "## Query"
   ]
  },
  {
   "cell_type": "code",
   "execution_count": 19,
   "metadata": {},
   "outputs": [
    {
     "data": {
      "text/plain": [
       "{'Items': [{'year': Decimal('2013'),\n",
       "   'info': {'actors': ['James Franco', 'Jonah Hill', 'Seth Rogen'],\n",
       "    'release_date': '2013-06-03T00:00:00Z',\n",
       "    'plot': \"While attending a party at James Franco's house, Seth Rogen, Jay Baruchel and many other celebrities are faced with the apocalypse.\",\n",
       "    'genres': ['Comedy', 'Fantasy'],\n",
       "    'image_url': 'http://ia.media-imdb.com/images/M/MV5BMTQxODE3NjM1Ml5BMl5BanBnXkFtZTcwMzkzNjc4OA@@._V1_SX400_.jpg',\n",
       "    'directors': ['Evan Goldberg', 'Seth Rogen'],\n",
       "    'rating': Decimal('7.2'),\n",
       "    'rank': Decimal('6'),\n",
       "    'running_time_secs': Decimal('6420')},\n",
       "   'title': 'This Is the End'}],\n",
       " 'Count': 1,\n",
       " 'ScannedCount': 1,\n",
       " 'ResponseMetadata': {'RequestId': 'PB70PMR775H26AHS6DDP9M534NVV4KQNSO5AEMVJF66Q9ASUAAJG',\n",
       "  'HTTPStatusCode': 200,\n",
       "  'HTTPHeaders': {'server': 'Server',\n",
       "   'date': 'Sun, 23 Aug 2020 21:14:44 GMT',\n",
       "   'content-type': 'application/x-amz-json-1.0',\n",
       "   'content-length': '672',\n",
       "   'connection': 'keep-alive',\n",
       "   'x-amzn-requestid': 'PB70PMR775H26AHS6DDP9M534NVV4KQNSO5AEMVJF66Q9ASUAAJG',\n",
       "   'x-amz-crc32': '3834889852'},\n",
       "  'RetryAttempts': 0}}"
      ]
     },
     "execution_count": 19,
     "metadata": {},
     "output_type": "execute_result"
    }
   ],
   "source": [
    "from boto3.dynamodb.conditions import Key\n",
    "table = dynamodb.Table('Movies')\n",
    "table.query(\n",
    "    KeyConditionExpression=Key('year').eq(2013) & Key('title').eq('This Is the End')\n",
    ")"
   ]
  },
  {
   "cell_type": "markdown",
   "metadata": {},
   "source": [
    "## Scan"
   ]
  },
  {
   "cell_type": "code",
   "execution_count": 23,
   "metadata": {},
   "outputs": [
    {
     "name": "stdout",
     "output_type": "stream",
     "text": [
      "{'Items': [{'info': {'rating': Decimal('8.2')}, 'year': Decimal('2013'), 'title': 'Prisoners'}, {'year': Decimal('2013'), 'title': 'The Hunger Games: Catching Fire'}, {'info': {'rating': Decimal('7.2')}, 'year': Decimal('2013'), 'title': 'This Is the End'}, {'year': Decimal('2013'), 'title': 'Thor: The Dark World'}], 'Count': 4, 'ScannedCount': 4, 'ResponseMetadata': {'RequestId': '1OOUF87JR72DTF0MK0LQ1D7HOVVV4KQNSO5AEMVJF66Q9ASUAAJG', 'HTTPStatusCode': 200, 'HTTPHeaders': {'server': 'Server', 'date': 'Sun, 23 Aug 2020 21:22:08 GMT', 'content-type': 'application/x-amz-json-1.0', 'content-length': '341', 'connection': 'keep-alive', 'x-amzn-requestid': '1OOUF87JR72DTF0MK0LQ1D7HOVVV4KQNSO5AEMVJF66Q9ASUAAJG', 'x-amz-crc32': '212092884'}, 'RetryAttempts': 0}}\n"
     ]
    }
   ],
   "source": [
    "table = dynamodb.Table('Movies')\n",
    "scan_kwargs = {\n",
    "    'FilterExpression': Key('year').between(1960,2020),\n",
    "    'ProjectionExpression': \"#yr, title, info.rating\",\n",
    "    'ExpressionAttributeNames': {\"#yr\": \"year\"}\n",
    "}\n",
    "\n",
    "done = False\n",
    "start_key = None\n",
    "while not done:\n",
    "    if start_key:\n",
    "        scan_kwargs['ExclusiveStartKey'] = start_key\n",
    "    response = table.scan(**scan_kwargs)\n",
    "    print(response)\n",
    "    start_key = response.get('LastEvaluatedKey', None)\n",
    "    done = start_key is None"
   ]
  },
  {
   "cell_type": "markdown",
   "metadata": {},
   "source": [
    "## Delete Table"
   ]
  },
  {
   "cell_type": "code",
   "execution_count": 24,
   "metadata": {},
   "outputs": [
    {
     "data": {
      "text/plain": [
       "{'TableDescription': {'TableName': 'Movies',\n",
       "  'TableStatus': 'DELETING',\n",
       "  'ProvisionedThroughput': {'NumberOfDecreasesToday': 0,\n",
       "   'ReadCapacityUnits': 10,\n",
       "   'WriteCapacityUnits': 10},\n",
       "  'TableSizeBytes': 0,\n",
       "  'ItemCount': 0,\n",
       "  'TableArn': 'arn:aws:dynamodb:us-east-1:226595923650:table/Movies',\n",
       "  'TableId': '19ce7c0d-2d60-4893-b6fe-daf55215393d'},\n",
       " 'ResponseMetadata': {'RequestId': 'FUIO3JARGQRAMLESHTI64JQLGNVV4KQNSO5AEMVJF66Q9ASUAAJG',\n",
       "  'HTTPStatusCode': 200,\n",
       "  'HTTPHeaders': {'server': 'Server',\n",
       "   'date': 'Sun, 23 Aug 2020 21:23:09 GMT',\n",
       "   'content-type': 'application/x-amz-json-1.0',\n",
       "   'content-length': '316',\n",
       "   'connection': 'keep-alive',\n",
       "   'x-amzn-requestid': 'FUIO3JARGQRAMLESHTI64JQLGNVV4KQNSO5AEMVJF66Q9ASUAAJG',\n",
       "   'x-amz-crc32': '1843616595'},\n",
       "  'RetryAttempts': 0}}"
      ]
     },
     "execution_count": 24,
     "metadata": {},
     "output_type": "execute_result"
    }
   ],
   "source": [
    "table = dynamodb.Table('Movies')\n",
    "table.delete()"
   ]
  },
  {
   "cell_type": "code",
   "execution_count": null,
   "metadata": {},
   "outputs": [],
   "source": []
  }
 ],
 "metadata": {
  "kernelspec": {
   "display_name": "conda_python3",
   "language": "python",
   "name": "conda_python3"
  },
  "language_info": {
   "codemirror_mode": {
    "name": "ipython",
    "version": 3
   },
   "file_extension": ".py",
   "mimetype": "text/x-python",
   "name": "python",
   "nbconvert_exporter": "python",
   "pygments_lexer": "ipython3",
   "version": "3.6.10"
  }
 },
 "nbformat": 4,
 "nbformat_minor": 4
}
