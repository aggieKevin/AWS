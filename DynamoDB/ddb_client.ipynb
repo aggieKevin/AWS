{
 "cells": [
  {
   "cell_type": "markdown",
   "metadata": {},
   "source": [
    "# DynamoDB Client Examples"
   ]
  },
  {
   "cell_type": "markdown",
   "metadata": {},
   "source": [
    "A low-level client representing Amazon DynamoDB  https://boto3.amazonaws.com/v1/documentation/api/latest/reference/services/dynamodb.html#client"
   ]
  },
  {
   "cell_type": "code",
   "execution_count": 1,
   "metadata": {},
   "outputs": [],
   "source": [
    "import boto3\n",
    "client=boto3.client('dynamodb') # create the DDB client"
   ]
  },
  {
   "cell_type": "markdown",
   "metadata": {},
   "source": [
    "## Create Table"
   ]
  },
  {
   "cell_type": "code",
   "execution_count": 2,
   "metadata": {},
   "outputs": [],
   "source": [
    "response = client.create_table(\n",
    "    TableName='ratings',\n",
    "    KeySchema=[\n",
    "        {\n",
    "            'AttributeName': 'userId',\n",
    "            'KeyType': 'HASH'  #Partition key\n",
    "        },\n",
    "        {\n",
    "            'AttributeName': 'movieId',\n",
    "            'KeyType': 'RANGE'  #Sort key\n",
    "        }\n",
    "        \n",
    "    ],\n",
    "    AttributeDefinitions=[\n",
    "        {\n",
    "            'AttributeName': 'userId',\n",
    "            'AttributeType': 'N'\n",
    "        },\n",
    "        {\n",
    "            'AttributeName': 'movieId',\n",
    "            'AttributeType': 'N'\n",
    "        }\n",
    "    ],\n",
    "    ProvisionedThroughput={\n",
    "        'ReadCapacityUnits': 5,\n",
    "        'WriteCapacityUnits': 5\n",
    "    }\n",
    ")"
   ]
  },
  {
   "cell_type": "code",
   "execution_count": 3,
   "metadata": {},
   "outputs": [
    {
     "data": {
      "text/plain": [
       "{'TableDescription': {'AttributeDefinitions': [{'AttributeName': 'movieId',\n",
       "    'AttributeType': 'N'},\n",
       "   {'AttributeName': 'userId', 'AttributeType': 'N'}],\n",
       "  'TableName': 'ratings',\n",
       "  'KeySchema': [{'AttributeName': 'userId', 'KeyType': 'HASH'},\n",
       "   {'AttributeName': 'movieId', 'KeyType': 'RANGE'}],\n",
       "  'TableStatus': 'CREATING',\n",
       "  'CreationDateTime': datetime.datetime(2020, 8, 23, 20, 16, 16, 669000, tzinfo=tzlocal()),\n",
       "  'ProvisionedThroughput': {'NumberOfDecreasesToday': 0,\n",
       "   'ReadCapacityUnits': 5,\n",
       "   'WriteCapacityUnits': 5},\n",
       "  'TableSizeBytes': 0,\n",
       "  'ItemCount': 0,\n",
       "  'TableArn': 'arn:aws:dynamodb:us-east-1:226595923650:table/ratings',\n",
       "  'TableId': 'e54240e4-5073-4c4e-a627-08e7f14e6e2f'},\n",
       " 'ResponseMetadata': {'RequestId': 'VIVOM5OJGCETK7VDCM47KMGKMVVV4KQNSO5AEMVJF66Q9ASUAAJG',\n",
       "  'HTTPStatusCode': 200,\n",
       "  'HTTPHeaders': {'server': 'Server',\n",
       "   'date': 'Sun, 23 Aug 2020 20:16:16 GMT',\n",
       "   'content-type': 'application/x-amz-json-1.0',\n",
       "   'content-length': '576',\n",
       "   'connection': 'keep-alive',\n",
       "   'x-amzn-requestid': 'VIVOM5OJGCETK7VDCM47KMGKMVVV4KQNSO5AEMVJF66Q9ASUAAJG',\n",
       "   'x-amz-crc32': '1277562218'},\n",
       "  'RetryAttempts': 0}}"
      ]
     },
     "execution_count": 3,
     "metadata": {},
     "output_type": "execute_result"
    }
   ],
   "source": [
    "response"
   ]
  },
  {
   "cell_type": "markdown",
   "metadata": {},
   "source": [
    "## Insert Item"
   ]
  },
  {
   "cell_type": "code",
   "execution_count": 14,
   "metadata": {},
   "outputs": [],
   "source": [
    "import pandas as pd\n",
    "from decimal import Decimal\n",
    "df=pd.read_csv('./ratings_1000.csv')\n",
    "for i in df.index:\n",
    "    userid,movieid,rating,time=df.iloc[i]\n",
    "    try:\n",
    "       # print('userid is {}, and movieId is {}'.format(userid,movieid))\n",
    "        #print(userid)\n",
    "        \n",
    "        client.put_item(\n",
    "            TableName='ratings',\n",
    "            Item={\n",
    "                'userId': {'N': str(userid)},\n",
    "                'movieId':{'N': str(movieid)},\n",
    "                \n",
    "                'rating': {'N':str(rating)},\n",
    "                'timestamp':{'S':str(time)}\n",
    "        })\n",
    "        #print('write one record {}'.format(i))\n",
    "    except Exception as e:\n",
    "        print(e)"
   ]
  },
  {
   "cell_type": "markdown",
   "metadata": {},
   "source": [
    "## Get Item"
   ]
  },
  {
   "cell_type": "code",
   "execution_count": 17,
   "metadata": {},
   "outputs": [
    {
     "data": {
      "text/plain": [
       "{'movieId': {'N': '7'},\n",
       " 'rating': {'N': '3'},\n",
       " 'userId': {'N': '7'},\n",
       " 'timestamp': {'S': '1011208220.0'}}"
      ]
     },
     "execution_count": 17,
     "metadata": {},
     "output_type": "execute_result"
    }
   ],
   "source": [
    "response=client.get_item(\n",
    "    TableName='ratings',\n",
    "    Key={\n",
    "        'userId':{'N':'7'},\n",
    "        'movieId':{'N':'7'}\n",
    "    }\n",
    "    )\n",
    "response['Item']"
   ]
  },
  {
   "cell_type": "markdown",
   "metadata": {},
   "source": [
    "## Update Item"
   ]
  },
  {
   "cell_type": "code",
   "execution_count": 29,
   "metadata": {},
   "outputs": [
    {
     "data": {
      "text/plain": [
       "{'Attributes': {'movieId': {'N': '7'},\n",
       "  'rating': {'N': '3'},\n",
       "  'userId': {'N': '7'},\n",
       "  'timestamp': {'S': '1011208220.0'}},\n",
       " 'ResponseMetadata': {'RequestId': '5HR582U8IHHEVBN1O8AQECGSSNVV4KQNSO5AEMVJF66Q9ASUAAJG',\n",
       "  'HTTPStatusCode': 200,\n",
       "  'HTTPHeaders': {'server': 'Server',\n",
       "   'date': 'Sun, 23 Aug 2020 22:21:06 GMT',\n",
       "   'content-type': 'application/x-amz-json-1.0',\n",
       "   'content-length': '107',\n",
       "   'connection': 'keep-alive',\n",
       "   'x-amzn-requestid': '5HR582U8IHHEVBN1O8AQECGSSNVV4KQNSO5AEMVJF66Q9ASUAAJG',\n",
       "   'x-amz-crc32': '177573034'},\n",
       "  'RetryAttempts': 0}}"
      ]
     },
     "execution_count": 29,
     "metadata": {},
     "output_type": "execute_result"
    }
   ],
   "source": [
    "response=client.update_item(\n",
    "    TableName='ratings',\n",
    "    Key={\n",
    "        'userId':{'N':'7'},\n",
    "        'movieId':{'N':'7'}\n",
    "    },\n",
    "    UpdateExpression='SET #att=:val',\n",
    "    ConditionExpression='#att < :val2',\n",
    "    ExpressionAttributeNames={'#att':'rating'},\n",
    "    ExpressionAttributeValues={':val':{'N':'3'}, ':val2':{'N':'5'}},\n",
    "\n",
    "    ReturnValues='ALL_NEW'\n",
    ")\n",
    "response"
   ]
  },
  {
   "cell_type": "markdown",
   "metadata": {},
   "source": [
    "## Delete Item"
   ]
  },
  {
   "cell_type": "code",
   "execution_count": 30,
   "metadata": {},
   "outputs": [],
   "source": [
    "response=client.delete_item(\n",
    "    TableName='ratings',\n",
    "    Key={\n",
    "        'userId':{'N':'7'},\n",
    "        'movieId':{'N':'7'}\n",
    "    }\n",
    ")"
   ]
  },
  {
   "cell_type": "code",
   "execution_count": 31,
   "metadata": {},
   "outputs": [
    {
     "data": {
      "text/plain": [
       "{'ResponseMetadata': {'RequestId': 'NG9C2JK8T5DQ2VBEQ93QMLTPAFVV4KQNSO5AEMVJF66Q9ASUAAJG',\n",
       "  'HTTPStatusCode': 200,\n",
       "  'HTTPHeaders': {'server': 'Server',\n",
       "   'date': 'Sun, 23 Aug 2020 22:23:06 GMT',\n",
       "   'content-type': 'application/x-amz-json-1.0',\n",
       "   'content-length': '2',\n",
       "   'connection': 'keep-alive',\n",
       "   'x-amzn-requestid': 'NG9C2JK8T5DQ2VBEQ93QMLTPAFVV4KQNSO5AEMVJF66Q9ASUAAJG',\n",
       "   'x-amz-crc32': '2745614147'},\n",
       "  'RetryAttempts': 0}}"
      ]
     },
     "execution_count": 31,
     "metadata": {},
     "output_type": "execute_result"
    }
   ],
   "source": [
    "response"
   ]
  },
  {
   "cell_type": "markdown",
   "metadata": {},
   "source": [
    "## Query"
   ]
  },
  {
   "cell_type": "code",
   "execution_count": 33,
   "metadata": {},
   "outputs": [
    {
     "data": {
      "text/plain": [
       "[{'movieId': {'N': '3'},\n",
       "  'rating': {'N': '3'},\n",
       "  'userId': {'N': '7'},\n",
       "  'timestamp': {'S': '1011208463.0'}},\n",
       " {'movieId': {'N': '11'},\n",
       "  'rating': {'N': '4'},\n",
       "  'userId': {'N': '7'},\n",
       "  'timestamp': {'S': '1011207889.0'}},\n",
       " {'movieId': {'N': '15'},\n",
       "  'rating': {'N': '2'},\n",
       "  'userId': {'N': '7'},\n",
       "  'timestamp': {'S': '1011208732.0'}},\n",
       " {'movieId': {'N': '16'},\n",
       "  'rating': {'N': '3'},\n",
       "  'userId': {'N': '7'},\n",
       "  'timestamp': {'S': '1011205378.0'}},\n",
       " {'movieId': {'N': '17'},\n",
       "  'rating': {'N': '2'},\n",
       "  'userId': {'N': '7'},\n",
       "  'timestamp': {'S': '1011207676.0'}},\n",
       " {'movieId': {'N': '24'},\n",
       "  'rating': {'N': '3'},\n",
       "  'userId': {'N': '7'},\n",
       "  'timestamp': {'S': '1011207238.0'}}]"
      ]
     },
     "execution_count": 33,
     "metadata": {},
     "output_type": "execute_result"
    }
   ],
   "source": [
    "response=client.query(\n",
    "    TableName='ratings',\n",
    "    KeyConditionExpression='userId=:uid AND movieId BETWEEN :mid1 AND :mid2',\n",
    "    ExpressionAttributeValues={\n",
    "        ':uid':{'N':'7'},\n",
    "        ':mid1':{'N':'1'},\n",
    "        ':mid2':{'N':'100'}\n",
    "    }\n",
    ")\n",
    "response['Items']"
   ]
  },
  {
   "cell_type": "markdown",
   "metadata": {},
   "source": [
    "## Scan"
   ]
  },
  {
   "cell_type": "code",
   "execution_count": 35,
   "metadata": {},
   "outputs": [
    {
     "data": {
      "text/plain": [
       "[{'movieId': {'N': '3'},\n",
       "  'rating': {'N': '3'},\n",
       "  'userId': {'N': '7'},\n",
       "  'timestamp': {'S': '1011208463.0'}},\n",
       " {'movieId': {'N': '11'},\n",
       "  'rating': {'N': '4'},\n",
       "  'userId': {'N': '7'},\n",
       "  'timestamp': {'S': '1011207889.0'}},\n",
       " {'movieId': {'N': '15'},\n",
       "  'rating': {'N': '2'},\n",
       "  'userId': {'N': '7'},\n",
       "  'timestamp': {'S': '1011208732.0'}},\n",
       " {'movieId': {'N': '16'},\n",
       "  'rating': {'N': '3'},\n",
       "  'userId': {'N': '7'},\n",
       "  'timestamp': {'S': '1011205378.0'}},\n",
       " {'movieId': {'N': '17'},\n",
       "  'rating': {'N': '2'},\n",
       "  'userId': {'N': '7'},\n",
       "  'timestamp': {'S': '1011207676.0'}}]"
      ]
     },
     "execution_count": 35,
     "metadata": {},
     "output_type": "execute_result"
    }
   ],
   "source": [
    "response=client.scan(\n",
    "    TableName='ratings',\n",
    "    # IndexName=,\n",
    "    # ExclusiveStartKey= ,The primary key of the first item that this operation will evaluate\n",
    ")\n",
    "response['Items'][:5] # show beginning 5"
   ]
  },
  {
   "cell_type": "markdown",
   "metadata": {},
   "source": [
    "## Delete Table"
   ]
  },
  {
   "cell_type": "code",
   "execution_count": null,
   "metadata": {},
   "outputs": [],
   "source": [
    "response = client.delete_table(\n",
    "    TableName='ratings'\n",
    ")"
   ]
  }
 ],
 "metadata": {
  "kernelspec": {
   "display_name": "conda_python3",
   "language": "python",
   "name": "conda_python3"
  },
  "language_info": {
   "codemirror_mode": {
    "name": "ipython",
    "version": 3
   },
   "file_extension": ".py",
   "mimetype": "text/x-python",
   "name": "python",
   "nbconvert_exporter": "python",
   "pygments_lexer": "ipython3",
   "version": "3.6.10"
  }
 },
 "nbformat": 4,
 "nbformat_minor": 4
}
