{
 "cells": [
  {
   "cell_type": "markdown",
   "metadata": {},
   "source": [
    "## Add step"
   ]
  },
  {
   "cell_type": "code",
   "execution_count": 1,
   "metadata": {},
   "outputs": [],
   "source": [
    "import boto3\n",
    "client=boto3.client('emr',region_name='us-east-1')\n",
    "\n",
    "response = client.add_job_flow_steps(\n",
    "    JobFlowId='j-UYQ5Y3SPQYQQ',\n",
    "    Steps=[\n",
    "        {\n",
    "            'Name': 'addStepTest',\n",
    "            'ActionOnFailure': 'CONTINUE',\n",
    "            'HadoopJarStep': {\n",
    "                'Jar': 's3://support.elasticmapreduce/training/jobs/Wordcount-1.0-SNAPSHOT-job.jar',\n",
    "                'Args': [\n",
    "                    'com.amazonaws.support.training.emr.Wordcount',\n",
    "                    's3://support.elasticmapreduce/training/sampledata/booksintext/',\n",
    "                    '/wordcount-exercise-1/'\n",
    "                ]\n",
    "            }\n",
    "        },\n",
    "    ]\n",
    ")"
   ]
  },
  {
   "cell_type": "code",
   "execution_count": 2,
   "metadata": {},
   "outputs": [
    {
     "data": {
      "text/plain": [
       "{'StepIds': ['s-10YQFHFPCJ0X5'],\n",
       " 'ResponseMetadata': {'RequestId': 'b0433c45-a7fb-4140-bba3-fcb0fc669d77',\n",
       "  'HTTPStatusCode': 200,\n",
       "  'HTTPHeaders': {'x-amzn-requestid': 'b0433c45-a7fb-4140-bba3-fcb0fc669d77',\n",
       "   'content-type': 'application/x-amz-json-1.1',\n",
       "   'content-length': '31',\n",
       "   'date': 'Tue, 15 Sep 2020 11:52:19 GMT'},\n",
       "  'RetryAttempts': 0}}"
      ]
     },
     "execution_count": 2,
     "metadata": {},
     "output_type": "execute_result"
    }
   ],
   "source": [
    "response"
   ]
  },
  {
   "cell_type": "markdown",
   "metadata": {},
   "source": [
    "## Run job flow"
   ]
  },
  {
   "cell_type": "code",
   "execution_count": null,
   "metadata": {},
   "outputs": [],
   "source": [
    "import boto3\n",
    "client=boto3.client('emr',region_name='us-east-1')\n",
    "'''\n",
    "client(service_name, region_name=None, api_version=None, use_ssl=True, verify=None, endpoint_url=None, aws_access_key_id=None, aws_secret_access_key=None, aws_session_token=None, config=None, /, *, service_name, region_name=None, api_version=None, use_ssl=True, verify=None, endpoint_url=None, aws_access_key_id=None, aws_secret_access_key=None, aws_session_token=None, config=None)\n",
    "'''\n",
    "#myApplications=[{'Name':'Hadoop'},{'Name':'Spark'},{'Name':'Ganglia'},{'Name':'Zeppelin'},{'Name':'Oozie'},{'Name':'Hive'},{'Name':'Hue'},{'Name':'ZooKeeper'},{'Name':'Phoenix'},{'Name':'HCatalog'},{'Name':'Tez'},{'Name':'Pig'},{'Name':'MXNet'},{'Name':'Presto'}]\n",
    "\n",
    "myApplications=[{'Name':'Hadoop'},{'Name':'Spark'},{'Name':'Ganglia'},{'Name':'Zeppelin'},{'Name':'Oozie'},{'Name':'Hive'},]\n",
    "\n",
    "myInstances={\n",
    "        'MasterInstanceType':'m4.xlarge' ,\n",
    "        'SlaveInstanceType': 'm4.xlarge',\n",
    "        'InstanceCount':3,\n",
    "        'Ec2KeyName': 'ec2key',\n",
    "        'KeepJobFlowAliveWhenNoSteps': True,\n",
    "        'TerminationProtected': False,\n",
    "        #'Ec2SubnetId': 'subnetID',\n",
    "        # 'EmrManagedMasterSecurityGroup': 'string',\n",
    "        # 'EmrManagedSlaveSecurityGroup': 'string',\n",
    "        # 'ServiceAccessSecurityGroup': 'string',\n",
    "    }\n",
    "response = client.run_job_flow(\n",
    "    Name='historytest',\n",
    "    LogUri='s3://aws-logs-myaccount-us-east-1/elasticmapreduce/',\n",
    "    #AdditionalInfo='string',\n",
    "    #AmiVersion='string',\n",
    "    ReleaseLabel='emr-5.28.0',\n",
    "    Instances=myInstances,\n",
    "    #Steps=[],\n",
    "    Applications=myApplications,\n",
    "    VisibleToAllUsers=True,\n",
    "    JobFlowRole='EMR_EC2_DefaultRole', \n",
    "    ServiceRole='EMR_DefaultRole'\n",
    "    # SecurityConfiguration='string',\n",
    "    # AutoScalingRole='EMR_AutoScaling_DefaultRole',\n",
    "    # ScaleDownBehavior='TERMINATE_AT_INSTANCE_HOUR'|'TERMINATE_AT_TASK_COMPLETION',\n",
    "    # CustomAmiId='string',\n",
    "    # EbsRootVolumeSize=10,\n",
    "    # RepoUpgradeOnBoot='SECURITY'|'NONE',\n",
    ")"
   ]
  }
 ],
 "metadata": {
  "kernelspec": {
   "display_name": "conda_python3",
   "language": "python",
   "name": "conda_python3"
  },
  "language_info": {
   "codemirror_mode": {
    "name": "ipython",
    "version": 3
   },
   "file_extension": ".py",
   "mimetype": "text/x-python",
   "name": "python",
   "nbconvert_exporter": "python",
   "pygments_lexer": "ipython3",
   "version": "3.6.10"
  }
 },
 "nbformat": 4,
 "nbformat_minor": 4
}
